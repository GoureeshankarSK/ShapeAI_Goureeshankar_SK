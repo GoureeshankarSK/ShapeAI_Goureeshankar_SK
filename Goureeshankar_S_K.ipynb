{
  "nbformat": 4,
  "nbformat_minor": 0,
  "metadata": {
    "colab": {
      "name": "Goureeshankar.S.K",
      "provenance": []
    },
    "kernelspec": {
      "name": "python3",
      "display_name": "Python 3"
    },
    "language_info": {
      "name": "python"
    }
  },
  "cells": [
    {
      "cell_type": "code",
      "metadata": {
        "colab": {
          "base_uri": "https://localhost:8080/"
        },
        "id": "FNhFmDRw4utD",
        "outputId": "218bd5d1-d4a6-4a65-a967-8339545fbe58"
      },
      "source": [
        "from keras.datasets import mnist\n",
        "\n",
        "data = mnist.load_data()"
      ],
      "execution_count": 1,
      "outputs": [
        {
          "output_type": "stream",
          "text": [
            "Downloading data from https://storage.googleapis.com/tensorflow/tf-keras-datasets/mnist.npz\n",
            "11493376/11490434 [==============================] - 0s 0us/step\n"
          ],
          "name": "stdout"
        }
      ]
    },
    {
      "cell_type": "code",
      "metadata": {
        "id": "3s7KyNZM_k_8"
      },
      "source": [
        "((X_train, y_train), (X_test, y_test))=data"
      ],
      "execution_count": 8,
      "outputs": []
    },
    {
      "cell_type": "code",
      "metadata": {
        "id": "YX9z0dOfAn5Z"
      },
      "source": [
        "X_train = X_train.reshape((X_train.shape [0], 28*28)).astype('float32')\n",
        "X_test= X_test.reshape((X_test.shape [0], 28*28)).astype('float32')"
      ],
      "execution_count": 11,
      "outputs": []
    },
    {
      "cell_type": "code",
      "metadata": {
        "id": "fVMjzDPcBa3p"
      },
      "source": [
        "X_train = X_train / 255 \n",
        "X_test=X_test / 255"
      ],
      "execution_count": 13,
      "outputs": []
    },
    {
      "cell_type": "code",
      "metadata": {
        "colab": {
          "base_uri": "https://localhost:8080/"
        },
        "id": "Fy_4uWNhBo7o",
        "outputId": "833bac17-0cc2-468b-c5ca-ec431a50ef0a"
      },
      "source": [
        "from keras.utils import np_utils\n",
        "print(y_test.shape)\n",
        "\n",
        "y_train = np_utils.to_categorical(y_train)\n",
        "y_test = np_utils.to_categorical(y_test)\n",
        "\n",
        "num_classes =y_test.shape [1]\n",
        "print(y_test.shape)"
      ],
      "execution_count": 19,
      "outputs": [
        {
          "output_type": "stream",
          "text": [
            "(10000,)\n",
            "(10000, 10)\n"
          ],
          "name": "stdout"
        }
      ]
    },
    {
      "cell_type": "code",
      "metadata": {
        "id": "yoWB2kSTBwOP"
      },
      "source": [
        " from keras.models import Sequential\n",
        " from keras.layers import Dense"
      ],
      "execution_count": 20,
      "outputs": []
    },
    {
      "cell_type": "code",
      "metadata": {
        "id": "Cp_OJ3ElDg2Q"
      },
      "source": [
        "model=Sequential()\n",
        "model.add(Dense(32, input_dim = 28*28, activation='relu'))\n",
        "model.add(Dense(64, activation='relu'))\n",
        "model.add(Dense(10, activation='softmax'))"
      ],
      "execution_count": 22,
      "outputs": []
    },
    {
      "cell_type": "code",
      "metadata": {
        "id": "NCDRzBtyD5oz"
      },
      "source": [
        "model.compile(loss='categorical_crossentropy', optimizer='adam', metrics=['accuracy'])"
      ],
      "execution_count": 24,
      "outputs": []
    },
    {
      "cell_type": "code",
      "metadata": {
        "colab": {
          "base_uri": "https://localhost:8080/"
        },
        "id": "sx5NrAlqElPN",
        "outputId": "926fb359-b1fe-4645-d76c-2558349f2820"
      },
      "source": [
        "model.summary()"
      ],
      "execution_count": 25,
      "outputs": [
        {
          "output_type": "stream",
          "text": [
            "Model: \"sequential_1\"\n",
            "_________________________________________________________________\n",
            "Layer (type)                 Output Shape              Param #   \n",
            "=================================================================\n",
            "dense_3 (Dense)              (None, 32)                25120     \n",
            "_________________________________________________________________\n",
            "dense_4 (Dense)              (None, 64)                2112      \n",
            "_________________________________________________________________\n",
            "dense_5 (Dense)              (None, 10)                650       \n",
            "=================================================================\n",
            "Total params: 27,882\n",
            "Trainable params: 27,882\n",
            "Non-trainable params: 0\n",
            "_________________________________________________________________\n"
          ],
          "name": "stdout"
        }
      ]
    },
    {
      "cell_type": "code",
      "metadata": {
        "colab": {
          "base_uri": "https://localhost:8080/"
        },
        "id": "tUNZ-W9WEsaM",
        "outputId": "789dc696-dfa5-4fee-8c6d-5fce7d5cbcd0"
      },
      "source": [
        "model.fit(X_train, y_train, epochs=18, batch_size=100)"
      ],
      "execution_count": 27,
      "outputs": [
        {
          "output_type": "stream",
          "text": [
            "Epoch 1/18\n",
            "600/600 [==============================] - 2s 2ms/step - loss: 0.8149 - accuracy: 0.7574\n",
            "Epoch 2/18\n",
            "600/600 [==============================] - 1s 2ms/step - loss: 0.2104 - accuracy: 0.9379\n",
            "Epoch 3/18\n",
            "600/600 [==============================] - 1s 2ms/step - loss: 0.1665 - accuracy: 0.9503\n",
            "Epoch 4/18\n",
            "600/600 [==============================] - 1s 2ms/step - loss: 0.1362 - accuracy: 0.9604\n",
            "Epoch 5/18\n",
            "600/600 [==============================] - 1s 2ms/step - loss: 0.1186 - accuracy: 0.9643\n",
            "Epoch 6/18\n",
            "600/600 [==============================] - 1s 2ms/step - loss: 0.1030 - accuracy: 0.9683\n",
            "Epoch 7/18\n",
            "600/600 [==============================] - 1s 2ms/step - loss: 0.0953 - accuracy: 0.9717\n",
            "Epoch 8/18\n",
            "600/600 [==============================] - 1s 2ms/step - loss: 0.0795 - accuracy: 0.9753\n",
            "Epoch 9/18\n",
            "600/600 [==============================] - 1s 2ms/step - loss: 0.0751 - accuracy: 0.9773\n",
            "Epoch 10/18\n",
            "600/600 [==============================] - 1s 2ms/step - loss: 0.0681 - accuracy: 0.9786\n",
            "Epoch 11/18\n",
            "600/600 [==============================] - 1s 2ms/step - loss: 0.0609 - accuracy: 0.9813\n",
            "Epoch 12/18\n",
            "600/600 [==============================] - 1s 2ms/step - loss: 0.0583 - accuracy: 0.9820\n",
            "Epoch 13/18\n",
            "600/600 [==============================] - 1s 2ms/step - loss: 0.0523 - accuracy: 0.9841\n",
            "Epoch 14/18\n",
            "600/600 [==============================] - 1s 2ms/step - loss: 0.0489 - accuracy: 0.9846\n",
            "Epoch 15/18\n",
            "600/600 [==============================] - 1s 2ms/step - loss: 0.0464 - accuracy: 0.9861\n",
            "Epoch 16/18\n",
            "600/600 [==============================] - 1s 2ms/step - loss: 0.0421 - accuracy: 0.9874\n",
            "Epoch 17/18\n",
            "600/600 [==============================] - 1s 2ms/step - loss: 0.0391 - accuracy: 0.9882\n",
            "Epoch 18/18\n",
            "600/600 [==============================] - 1s 2ms/step - loss: 0.0410 - accuracy: 0.9868\n"
          ],
          "name": "stdout"
        },
        {
          "output_type": "execute_result",
          "data": {
            "text/plain": [
              "<tensorflow.python.keras.callbacks.History at 0x7f1738d08850>"
            ]
          },
          "metadata": {
            "tags": []
          },
          "execution_count": 27
        }
      ]
    },
    {
      "cell_type": "code",
      "metadata": {
        "colab": {
          "base_uri": "https://localhost:8080/"
        },
        "id": "JPRY20x7E54J",
        "outputId": "88569ca0-0615-4916-e348-d535ae1ed151"
      },
      "source": [
        "scores = model.evaluate(X_test, y_test)\n",
        "print(scores)"
      ],
      "execution_count": 28,
      "outputs": [
        {
          "output_type": "stream",
          "text": [
            "313/313 [==============================] - 0s 930us/step - loss: 0.1209 - accuracy: 0.9668\n",
            "[0.12090475857257843, 0.9667999744415283]\n"
          ],
          "name": "stdout"
        }
      ]
    }
  ]
}